{
 "cells": [
  {
   "cell_type": "markdown",
   "id": "9b8dc76d-7a11-44b1-b738-3aa7fdccc784",
   "metadata": {},
   "source": [
    "##1: Apply Conditional Statements to Filter High Temperature Cities"
   ]
  },
  {
   "cell_type": "code",
   "execution_count": 2,
   "id": "2d44f869-818b-43a4-85c2-d7a00b5aaf82",
   "metadata": {},
   "outputs": [
    {
     "name": "stdout",
     "output_type": "stream",
     "text": [
      "Cities with high temperatures (> 26°C):\n",
      "City B - 30°C\n",
      "City E - 28°C\n"
     ]
    }
   ],
   "source": [
    "\n",
    "# Sample climate dataset\n",
    "climate_data = [\n",
    "    {\"city\": \"City A\", \"temperature\": 25, \"carbon_footprint\": 500},\n",
    "    {\"city\": \"City B\", \"temperature\": 30, \"carbon_footprint\": 350},\n",
    "    {\"city\": \"City C\", \"temperature\": 22, \"carbon_footprint\": 600},\n",
    "    {\"city\": \"City D\", \"temperature\": 15, \"carbon_footprint\": 200},\n",
    "    {\"city\": \"City E\", \"temperature\": 28, \"carbon_footprint\": 450},\n",
    "]\n",
    "\n",
    "# High temperature threshold (cities above this temperature will be selected)\n",
    "high_temp_threshold = 26\n",
    "\n",
    "# Use a list comprehension to filter cities with temperatures higher than the threshold\n",
    "high_temp_cities = [city for city in climate_data if city[\"temperature\"] > high_temp_threshold]\n",
    "\n",
    "# Print the result\n",
    "print(\"Cities with high temperatures (> 26°C):\")\n",
    "for city in high_temp_cities:\n",
    "    print(f\"{city['city']} - {city['temperature']}°C\")"
   ]
  },
  {
   "cell_type": "code",
   "execution_count": 4,
   "id": "7f302a33-7910-4810-a7d2-ba455f14534b",
   "metadata": {},
   "outputs": [],
   "source": [
    "list1=[1,2,3,4,5,6,7,8,9,10]"
   ]
  },
  {
   "cell_type": "code",
   "execution_count": 6,
   "id": "351998e3-bbde-4b78-87d9-da1f56e68879",
   "metadata": {},
   "outputs": [
    {
     "data": {
      "text/plain": [
       "list[slice(8, 1, None)]"
      ]
     },
     "execution_count": 6,
     "metadata": {},
     "output_type": "execute_result"
    }
   ],
   "source": [
    "list[8:1]"
   ]
  },
  {
   "cell_type": "markdown",
   "id": "bc4aa9cb-a043-46fd-ba16-dc1902c7b63a",
   "metadata": {},
   "source": [
    "#2: Use Loops to Calculate Average Carbon Footprint"
   ]
  },
  {
   "cell_type": "code",
   "execution_count": 14,
   "id": "6def782a-b10c-406b-8bed-7ceff32309bd",
   "metadata": {},
   "outputs": [
    {
     "name": "stdout",
     "output_type": "stream",
     "text": [
      "\n",
      "Average Carbon Footprint: 420.00 kg CO2\n"
     ]
    }
   ],
   "source": [
    "\n",
    "# We will continue using the same dataset as above\n",
    "# Initialize a variable to store the total carbon footprint\n",
    "total_carbon = 0\n",
    "\n",
    "# Use a for loop to go through each city in the dataset and add their carbon footprint\n",
    "for city in climate_data:\n",
    "    total_carbon += city[\"carbon_footprint\"]  # Add each city's carbon footprint to the total\n",
    "\n",
    "# Calculate the average carbon footprint\n",
    "average_carbon_footprint = total_carbon / len(climate_data)\n",
    "\n",
    "# Print the average result\n",
    "print(f\"\\nAverage Carbon Footprint: {average_carbon_footprint:.2f} kg CO2\")"
   ]
  },
  {
   "cell_type": "markdown",
   "id": "b61fe9ba-2a72-4f04-a808-193537eab5a1",
   "metadata": {},
   "source": [
    "3: Filter and Manipulate Data to Find Sustainable Cities"
   ]
  },
  {
   "cell_type": "code",
   "execution_count": 17,
   "id": "2a4fcbbd-8030-4a8b-b5f1-5199437bd560",
   "metadata": {},
   "outputs": [
    {
     "name": "stdout",
     "output_type": "stream",
     "text": [
      "\n",
      "Sustainable Cities (carbon footprint < 400 kg CO2):\n",
      "City B - 350 kg CO2\n",
      "City D - 200 kg CO2\n"
     ]
    }
   ],
   "source": [
    "# Set a sustainability threshold (e.g., 400 kg CO2)\n",
    "sustainability_threshold = 400\n",
    "\n",
    "# Use a lambda function with filter() to get cities with a carbon footprint below the threshold\n",
    "sustainable_cities = list(filter(lambda city: city[\"carbon_footprint\"] < sustainability_threshold, climate_data))\n",
    "\n",
    "# Print the result\n",
    "print(\"\\nSustainable Cities (carbon footprint < 400 kg CO2):\")\n",
    "for city in sustainable_cities:\n",
    "    print(f\"{city['city']} - {city['carbon_footprint']} kg CO2\")"
   ]
  },
  {
   "cell_type": "markdown",
   "id": "88950689-d1ee-42ad-9d85-d27a5932f2cd",
   "metadata": {},
   "source": [
    "4: Analyze Data to Find the City with the Highest Carbon Footprint"
   ]
  },
  {
   "cell_type": "code",
   "execution_count": 20,
   "id": "dedff6df-ad99-491d-a79b-a5868e714ab4",
   "metadata": {},
   "outputs": [
    {
     "name": "stdout",
     "output_type": "stream",
     "text": [
      "\n",
      "City with the highest carbon footprint:\n",
      "City C - 600 kg CO2\n"
     ]
    }
   ],
   "source": [
    "# Use max() to find the city with the highest carbon footprint\n",
    "highest_footprint_city = max(climate_data, key=lambda city: city[\"carbon_footprint\"])\n",
    "\n",
    "# Print the result\n",
    "print(f\"\\nCity with the highest carbon footprint:\")\n",
    "print(f\"{highest_footprint_city['city']} - {highest_footprint_city['carbon_footprint']} kg CO2\")"
   ]
  }
 ],
 "metadata": {
  "kernelspec": {
   "display_name": "Python 3 (ipykernel)",
   "language": "python",
   "name": "python3"
  },
  "language_info": {
   "codemirror_mode": {
    "name": "ipython",
    "version": 3
   },
   "file_extension": ".py",
   "mimetype": "text/x-python",
   "name": "python",
   "nbconvert_exporter": "python",
   "pygments_lexer": "ipython3",
   "version": "3.12.4"
  }
 },
 "nbformat": 4,
 "nbformat_minor": 5
}
