{
 "cells": [
  {
   "cell_type": "markdown",
   "id": "d9908b61",
   "metadata": {},
   "source": [
    "#  EDUNET FOUNDATION - Classroom Exercise Notebook"
   ]
  },
  {
   "cell_type": "markdown",
   "id": "7ebbb29e",
   "metadata": {},
   "source": [
    "## Lab - 1 Basic Operation on Image Using cv2 \n"
   ]
  },
  {
   "cell_type": "markdown",
   "id": "5b263466",
   "metadata": {},
   "source": [
    "## Exercise-1 Image Reading in Different Types"
   ]
  },
  {
   "cell_type": "code",
   "execution_count": 1,
   "id": "5c2006d1",
   "metadata": {},
   "outputs": [],
   "source": [
    "import cv2\n",
    "import numpy as np"
   ]
  },
  {
   "cell_type": "code",
   "execution_count": 2,
   "id": "d4852ff2",
   "metadata": {},
   "outputs": [],
   "source": [
    "image = cv2.imread(\"blur_kernel.jpg\")"
   ]
  },
  {
   "cell_type": "code",
   "execution_count": 3,
   "id": "2a6d2abf",
   "metadata": {},
   "outputs": [
    {
     "data": {
      "text/plain": [
       "array([[[ 74,  71,  67],\n",
       "        [ 75,  72,  68],\n",
       "        [ 74,  71,  67],\n",
       "        ...,\n",
       "        [139, 131, 124],\n",
       "        [123, 115, 108],\n",
       "        [122, 114, 107]],\n",
       "\n",
       "       [[ 72,  69,  65],\n",
       "        [ 73,  70,  66],\n",
       "        [ 73,  68,  65],\n",
       "        ...,\n",
       "        [137, 127, 120],\n",
       "        [122, 112, 105],\n",
       "        [120, 110, 103]],\n",
       "\n",
       "       [[ 64,  61,  57],\n",
       "        [ 66,  61,  58],\n",
       "        [ 66,  61,  58],\n",
       "        ...,\n",
       "        [133, 117, 111],\n",
       "        [119, 103,  97],\n",
       "        [117, 101,  95]],\n",
       "\n",
       "       ...,\n",
       "\n",
       "       [[ 18,  84,  65],\n",
       "        [ 15,  81,  62],\n",
       "        [ 11,  77,  58],\n",
       "        ...,\n",
       "        [  3,  33,  14],\n",
       "        [  4,  34,  15],\n",
       "        [  5,  35,  16]],\n",
       "\n",
       "       [[ 16,  85,  65],\n",
       "        [ 15,  81,  62],\n",
       "        [ 11,  77,  58],\n",
       "        ...,\n",
       "        [  3,  33,  14],\n",
       "        [  4,  34,  15],\n",
       "        [  5,  35,  16]],\n",
       "\n",
       "       [[ 15,  83,  66],\n",
       "        [ 12,  80,  63],\n",
       "        [ 11,  76,  60],\n",
       "        ...,\n",
       "        [  6,  34,  15],\n",
       "        [  7,  35,  16],\n",
       "        [  8,  36,  17]]], dtype=uint8)"
      ]
     },
     "execution_count": 3,
     "metadata": {},
     "output_type": "execute_result"
    }
   ],
   "source": [
    "image"
   ]
  },
  {
   "cell_type": "markdown",
   "id": "2a368637",
   "metadata": {},
   "source": [
    "### In the Second Parameter of cv2.imread(\"Source of Image \", below 3 options)\n",
    "- cv2.IMREAD_COLOR: It specifies to load a color image. Any transparency of image will be neglected. It is the default flag. Alternatively, we can pass integer value 1 for this flag.\n",
    "- cv2.IMREAD_GRAYSCALE: It specifies to load an image in grayscale mode. Alternatively, we can pass integer value 0 for this flag.\n",
    "- cv2.IMREAD_UNCHANGED: It specifies to load an image as such including alpha channel. Alternatively, we can pass integer value -1 for this flag.\n"
   ]
  },
  {
   "cell_type": "code",
   "execution_count": 4,
   "id": "caf0e0f2",
   "metadata": {},
   "outputs": [],
   "source": [
    "cv2.imshow(\"image\", image)\n",
    "cv2.waitKey(0)\n",
    "cv2.destroyAllWindows()"
   ]
  },
  {
   "cell_type": "code",
   "execution_count": null,
   "id": "7f0e5cf7",
   "metadata": {},
   "outputs": [],
   "source": []
  },
  {
   "cell_type": "markdown",
   "id": "a71034c6",
   "metadata": {},
   "source": [
    "## Exercise-2 Starting Video Camera"
   ]
  },
  {
   "cell_type": "markdown",
   "id": "b1649ce1",
   "metadata": {},
   "source": [
    "### Steps to capture a video:\n",
    "\n",
    "- Use cv2.VideoCapture() to get a video capture object for the camera.\n",
    "- Set up an infinite while loop and use the read() method to read the frames using the above created object.\n",
    "- Use cv2.imshow() method to show the frames in the video.\n",
    "- Breaks the loop when the user clicks a specific key."
   ]
  },
  {
   "cell_type": "code",
   "execution_count": 11,
   "id": "33d7b22b",
   "metadata": {},
   "outputs": [],
   "source": [
    "# import the opencv library\n",
    "import cv2\n",
    "  \n",
    "  \n",
    "# define a video capture object\n",
    "vid = cv2.VideoCapture(0)\n",
    "  \n",
    "while(True):\n",
    "      \n",
    "    # Capture the video frame\n",
    "    # by frame\n",
    "    ret, frame = vid.read()\n",
    "  \n",
    "    # Display the resulting frame\n",
    "    cv2.imshow('frame', frame)\n",
    "      \n",
    "    # the 'q' button is set as the\n",
    "    # quitting button you may use any\n",
    "    # desired button of your choice\n",
    "    if cv2.waitKey(1) & 0xFF == ord('q'):\n",
    "        break\n",
    "  \n",
    "# After the loop release the cap object\n",
    "vid.release()\n",
    "# Destroy all the windows\n",
    "cv2.destroyAllWindows()"
   ]
  },
  {
   "cell_type": "markdown",
   "id": "37a528cf",
   "metadata": {},
   "source": [
    "## Exercise-3 Image Filter"
   ]
  },
  {
   "cell_type": "code",
   "execution_count": 6,
   "id": "8df025bf",
   "metadata": {},
   "outputs": [],
   "source": [
    "import cv2\n",
    "import numpy as np\n",
    "image = cv2.imread(\"blur_kernel.jpg\")\n",
    "\n",
    "# Print error message if image is null\n",
    "if image is None:\n",
    "    print('Could not read image')\n",
    "\n",
    "# Apply identity kernel\n",
    "kernel1 = np.array([[7, 7, 7],\n",
    "                    [0, 0, 0],\n",
    "                    [7, 7, 7]])\n",
    "\n",
    "identity = cv2.filter2D(src=image,  ddepth=-1,kernel=kernel1)\n",
    "\n",
    "\n",
    "cv2.imshow('Original', image)\n",
    "cv2.imshow('Identity', identity)\n",
    "    \n",
    "cv2.waitKey()\n",
    "#cv2.imwrite('identity.jpg', identity)\n",
    "cv2.destroyAllWindows()"
   ]
  },
  {
   "cell_type": "code",
   "execution_count": null,
   "id": "e6be824e",
   "metadata": {},
   "outputs": [],
   "source": [
    "cv2.imshow('Original', image)\n",
    "cv2.imshow('Identity', identity)\n",
    "    \n",
    "cv2.waitKey()\n",
    "cv2.imwrite('identity.jpg', identity)\n",
    "cv2.destroyAllWindows()\n"
   ]
  },
  {
   "cell_type": "code",
   "execution_count": null,
   "id": "bc5ace26",
   "metadata": {},
   "outputs": [],
   "source": [
    "# Apply blurring kernel\n",
    "kernel2 = np.ones((5, 5), np.float32) / 25\n",
    "img = cv2.filter2D(src=image, ddepth=-1, kernel=kernel2)\n",
    "\n",
    "cv2.imshow('Original', image)\n",
    "cv2.imshow('Kernel Blur', img)\n",
    "    \n",
    "cv2.waitKey()\n",
    "cv2.imwrite('blur_kernel.jpg', img)\n",
    "cv2.destroyAllWindows()"
   ]
  },
  {
   "cell_type": "code",
   "execution_count": 7,
   "id": "58491a3d",
   "metadata": {},
   "outputs": [],
   "source": [
    "b,g,r=cv2.split(image)"
   ]
  },
  {
   "cell_type": "code",
   "execution_count": 8,
   "id": "3dab5951",
   "metadata": {},
   "outputs": [
    {
     "data": {
      "text/plain": [
       "array([[ 74,  75,  74, ..., 139, 123, 122],\n",
       "       [ 72,  73,  73, ..., 137, 122, 120],\n",
       "       [ 64,  66,  66, ..., 133, 119, 117],\n",
       "       ...,\n",
       "       [ 18,  15,  11, ...,   3,   4,   5],\n",
       "       [ 16,  15,  11, ...,   3,   4,   5],\n",
       "       [ 15,  12,  11, ...,   6,   7,   8]], dtype=uint8)"
      ]
     },
     "execution_count": 8,
     "metadata": {},
     "output_type": "execute_result"
    }
   ],
   "source": [
    "b"
   ]
  },
  {
   "cell_type": "code",
   "execution_count": 12,
   "id": "8faf9000",
   "metadata": {},
   "outputs": [],
   "source": [
    "b=b*0"
   ]
  },
  {
   "cell_type": "code",
   "execution_count": 17,
   "id": "ff92316c",
   "metadata": {},
   "outputs": [
    {
     "data": {
      "text/plain": [
       "array([[37, 37, 37, ..., 69, 61, 61],\n",
       "       [36, 36, 36, ..., 68, 61, 60],\n",
       "       [32, 33, 33, ..., 66, 59, 58],\n",
       "       ...,\n",
       "       [ 9,  7,  5, ...,  1,  2,  2],\n",
       "       [ 8,  7,  5, ...,  1,  2,  2],\n",
       "       [ 7,  6,  5, ...,  3,  3,  4]], dtype=uint8)"
      ]
     },
     "execution_count": 17,
     "metadata": {},
     "output_type": "execute_result"
    }
   ],
   "source": [
    "g"
   ]
  },
  {
   "cell_type": "code",
   "execution_count": 13,
   "id": "b47239f9",
   "metadata": {},
   "outputs": [
    {
     "ename": "error",
     "evalue": "OpenCV(4.6.0) C:\\b\\abs_74oeeuevib\\croots\\recipe\\opencv-suite_1664548340488\\work\\modules\\core\\src\\merge.dispatch.cpp:129: error: (-215:Assertion failed) mv[i].size == mv[0].size && mv[i].depth() == depth in function 'cv::merge'\n",
     "output_type": "error",
     "traceback": [
      "\u001b[1;31m---------------------------------------------------------------------------\u001b[0m",
      "\u001b[1;31merror\u001b[0m                                     Traceback (most recent call last)",
      "\u001b[1;32m~\\AppData\\Local\\Temp\\ipykernel_19360\\3486680167.py\u001b[0m in \u001b[0;36m<module>\u001b[1;34m\u001b[0m\n\u001b[1;32m----> 1\u001b[1;33m \u001b[0mimg\u001b[0m\u001b[1;33m=\u001b[0m\u001b[0mcv2\u001b[0m\u001b[1;33m.\u001b[0m\u001b[0mmerge\u001b[0m\u001b[1;33m(\u001b[0m\u001b[1;33m(\u001b[0m\u001b[0mb\u001b[0m\u001b[1;33m,\u001b[0m\u001b[0mg\u001b[0m\u001b[1;33m,\u001b[0m\u001b[0mr\u001b[0m\u001b[1;33m)\u001b[0m\u001b[1;33m)\u001b[0m\u001b[1;33m\u001b[0m\u001b[1;33m\u001b[0m\u001b[0m\n\u001b[0m",
      "\u001b[1;31merror\u001b[0m: OpenCV(4.6.0) C:\\b\\abs_74oeeuevib\\croots\\recipe\\opencv-suite_1664548340488\\work\\modules\\core\\src\\merge.dispatch.cpp:129: error: (-215:Assertion failed) mv[i].size == mv[0].size && mv[i].depth() == depth in function 'cv::merge'\n"
     ]
    }
   ],
   "source": [
    "img=cv2.merge((b,g,r))"
   ]
  },
  {
   "cell_type": "code",
   "execution_count": 11,
   "id": "23016b21",
   "metadata": {},
   "outputs": [],
   "source": [
    "cv2.imshow('Original', img)\n",
    "cv2.waitKey()\n",
    "cv2.destroyAllWindows()\n"
   ]
  },
  {
   "cell_type": "code",
   "execution_count": null,
   "id": "d0ce71c2",
   "metadata": {},
   "outputs": [],
   "source": []
  }
 ],
 "metadata": {
  "kernelspec": {
   "display_name": "Python 3 (ipykernel)",
   "language": "python",
   "name": "python3"
  },
  "language_info": {
   "codemirror_mode": {
    "name": "ipython",
    "version": 3
   },
   "file_extension": ".py",
   "mimetype": "text/x-python",
   "name": "python",
   "nbconvert_exporter": "python",
   "pygments_lexer": "ipython3",
   "version": "3.7.13"
  }
 },
 "nbformat": 4,
 "nbformat_minor": 5
}
