{
 "cells": [
  {
   "cell_type": "markdown",
   "id": "7073f3c7-ebfe-4085-9231-af7a98d8f068",
   "metadata": {},
   "source": [
    "### Function Declaration"
   ]
  },
  {
   "cell_type": "code",
   "execution_count": 3,
   "id": "dffabd0b-dbdf-4c5d-83b6-ae109448e744",
   "metadata": {},
   "outputs": [],
   "source": [
    "def calculate_carbon_footprint(energy_consumption, emission_factor):\n",
    "    \"\"\"\n",
    "    This function calculates the carbon footprint based on energy consumption \n",
    "    (in kilowatt-hours) and the emission factor (in kg CO2 per kWh).\n",
    "    \"\"\"\n",
    "    return energy_consumption * emission_factor"
   ]
  },
  {
   "cell_type": "code",
   "execution_count": 7,
   "id": "fbdeadc8-5dcf-448f-aa48-d65a0ac05d4a",
   "metadata": {},
   "outputs": [],
   "source": [
    "func = lambda x, y : x + y\n",
    "# name of func = keyword arguments : operation"
   ]
  },
  {
   "cell_type": "markdown",
   "id": "a14ca9cf-0fa6-4f73-b63c-a84d4078dccb",
   "metadata": {},
   "source": [
    "## Function Definiation"
   ]
  },
  {
   "cell_type": "code",
   "execution_count": 9,
   "id": "207bd0ee-bb1f-483d-b9c7-bb3f7275f70a",
   "metadata": {},
   "outputs": [
    {
     "name": "stdout",
     "output_type": "stream",
     "text": [
      "Carbon Footprint: 475.0 kg CO2\n"
     ]
    }
   ],
   "source": [
    "energy_consumption = 1000  # in kWh\n",
    "emission_factor = 0.475      # kg CO2 per kWh\n",
    "\n",
    "carbon_footprint = calculate_carbon_footprint(energy_consumption, emission_factor)\n",
    "print(f\"Carbon Footprint: {carbon_footprint} kg CO2\")"
   ]
  },
  {
   "cell_type": "markdown",
   "id": "9a87d959-5e9b-4b8d-9e5d-8c813f7cf9fc",
   "metadata": {},
   "source": [
    "## Lamba Function"
   ]
  },
  {
   "cell_type": "code",
   "execution_count": 17,
   "id": "cfecceb4-cc7e-478c-a560-a6e3abbd08b8",
   "metadata": {},
   "outputs": [
    {
     "name": "stdout",
     "output_type": "stream",
     "text": [
      "Sustainable Cities:\n",
      "City B\n",
      "City D\n"
     ]
    }
   ],
   "source": [
    "# List of cities with their carbon footprints in tons CO2 per month\n",
    "cities = [\n",
    "    {\"name\": \"City A\", \"carbon_footprint\": 500},\n",
    "    {\"name\": \"City B\", \"carbon_footprint\": 350},\n",
    "    {\"name\": \"City C\", \"carbon_footprint\": 600},\n",
    "    {\"name\": \"City D\", \"carbon_footprint\": 200},\n",
    "]\n",
    "\n",
    "# Lambda function to filter cities below the threshold (400 ton CO2)\n",
    "sustainability_threshold = 400\n",
    "sustainable_cities = list(filter(lambda city: city[\"carbon_footprint\"] < sustainability_threshold, cities))\n",
    "\n",
    "# Printing the filtered list of sustainable cities\n",
    "print(\"Sustainable Cities:\")\n",
    "for city in sustainable_cities:\n",
    "    print(city[\"name\"])"
   ]
  },
  {
   "cell_type": "markdown",
   "id": "82ad7ce3-e9bf-40d1-9cc6-8175df8e7eae",
   "metadata": {},
   "source": [
    "## Local vs Global (global keyword)"
   ]
  },
  {
   "cell_type": "code",
   "execution_count": 23,
   "id": "ff2296c4-86fa-4864-8439-5d5b1261df94",
   "metadata": {},
   "outputs": [
    {
     "name": "stdout",
     "output_type": "stream",
     "text": [
      "100\n",
      "100\n"
     ]
    }
   ],
   "source": [
    "a = 10\n",
    "\n",
    "def fun():\n",
    "    global a # same local cant be created\n",
    "    a=100\n",
    "    print(a)\n",
    "fun()\n",
    "print(a)"
   ]
  },
  {
   "cell_type": "code",
   "execution_count": 38,
   "id": "46cf6720-41c2-4e78-9809-4b19036473df",
   "metadata": {},
   "outputs": [
    {
     "name": "stdout",
     "output_type": "stream",
     "text": [
      "10\n",
      "Local x: 20\n",
      "Global x: 10\n"
     ]
    }
   ],
   "source": [
    "x = 10  # Global variable\n",
    "\n",
    "def my_function():\n",
    "    x = 20  # Local variable\n",
    "    print(\"Local x:\", x)  # Accessing local variable\n",
    "    print(\"Global x:\", globals()['x'])  # Accessing global variable\n",
    "print(x)\n",
    "my_function()"
   ]
  }
 ],
 "metadata": {
  "kernelspec": {
   "display_name": "Python 3 (ipykernel)",
   "language": "python",
   "name": "python3"
  },
  "language_info": {
   "codemirror_mode": {
    "name": "ipython",
    "version": 3
   },
   "file_extension": ".py",
   "mimetype": "text/x-python",
   "name": "python",
   "nbconvert_exporter": "python",
   "pygments_lexer": "ipython3",
   "version": "3.12.4"
  }
 },
 "nbformat": 4,
 "nbformat_minor": 5
}
